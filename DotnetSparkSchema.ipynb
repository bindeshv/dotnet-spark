{
 "cells": [
  {
   "cell_type": "code",
   "execution_count": 1,
   "metadata": {},
   "outputs": [
    {
     "data": {
      "text/html": [
       "\r\n",
       "<div>\r\n",
       "    <div id='dotnet-interactive-this-cell-19752.cebb49736d964d0e962cd891890dbfcf' style='display: none'>\r\n",
       "        The below script needs to be able to find the current output cell; this is an easy method to get it.\r\n",
       "    </div>\r\n",
       "    <script type='text/javascript'>\r\n",
       "// ensure `require` is available globally\r\n",
       "if (typeof require !== typeof Function || typeof require.config !== typeof Function) {\r\n",
       "    let require_script = document.createElement('script');\r\n",
       "    require_script.setAttribute('src', 'https://cdnjs.cloudflare.com/ajax/libs/require.js/2.3.6/require.min.js');\r\n",
       "    require_script.setAttribute('type', 'text/javascript');\r\n",
       "    require_script.onload = function () {\r\n",
       "        loadDotnetInteractiveApi();\r\n",
       "    };\r\n",
       "\r\n",
       "    document.getElementsByTagName('head')[0].appendChild(require_script);\r\n",
       "}\r\n",
       "else {\r\n",
       "    loadDotnetInteractiveApi();\r\n",
       "}\r\n",
       "\r\n",
       "async function probeAddresses(probingAddresses) {\r\n",
       "    function timeout(ms, promise) {\r\n",
       "        return new Promise(function (resolve, reject) {\r\n",
       "            setTimeout(function () {\r\n",
       "                reject(new Error('timeout'))\r\n",
       "            }, ms)\r\n",
       "            promise.then(resolve, reject)\r\n",
       "        })\r\n",
       "    }\r\n",
       "\r\n",
       "    if (Array.isArray(probingAddresses)) {\r\n",
       "        for (let i = 0; i < probingAddresses.length; i++) {\r\n",
       "\r\n",
       "            let rootUrl = probingAddresses[i];\r\n",
       "\r\n",
       "            if (!rootUrl.endsWith('/')) {\r\n",
       "                rootUrl = `${rootUrl}/`;\r\n",
       "            }\r\n",
       "\r\n",
       "            try {\r\n",
       "                let response = await timeout(1000, fetch(`${rootUrl}discovery`, {\r\n",
       "                    method: 'POST',\r\n",
       "                    cache: 'no-cache',\r\n",
       "                    mode: 'cors',\r\n",
       "                    timeout: 1000,\r\n",
       "                    headers: {\r\n",
       "                        'Content-Type': 'text/plain'\r\n",
       "                    },\r\n",
       "                    body: probingAddresses[i]\r\n",
       "                }));\r\n",
       "\r\n",
       "                if (response.status == 200) {\r\n",
       "                    return rootUrl;\r\n",
       "                }\r\n",
       "            }\r\n",
       "            catch (e) { }\r\n",
       "        }\r\n",
       "    }\r\n",
       "}\r\n",
       "\r\n",
       "function loadDotnetInteractiveApi() {\r\n",
       "    probeAddresses([\"http://10.10.1.125:1001/\", \"http://169.254.58.219:1001/\", \"http://192.168.225.76:1001/\", \"http://172.23.240.1:1001/\", \"http://127.0.0.1:1001/\"])\r\n",
       "        .then((root) => {\r\n",
       "            // use probing to find host url and api resources\r\n",
       "            // load interactive helpers and language services\r\n",
       "            let dotnetInteractiveRequire = require.config({\r\n",
       "                context: '19752.cebb49736d964d0e962cd891890dbfcf',\r\n",
       "                paths: {\r\n",
       "                    'dotnet-interactive': `${root}resources`\r\n",
       "                }\r\n",
       "            }) || require;\r\n",
       "\r\n",
       "            let dotnetInteractiveExtensionsRequire = require.config({\r\n",
       "                context: '19752.cebb49736d964d0e962cd891890dbfcf',\r\n",
       "                paths: {\r\n",
       "                    'dotnet-interactive-extensions': `${root}extensions`\r\n",
       "                }\r\n",
       "            }) || require;\r\n",
       "\r\n",
       "            if (!window.dotnetInteractiveRequire) {\r\n",
       "                window.dotnetInteractiveRequire = dotnetInteractiveRequire;\r\n",
       "            }\r\n",
       "\r\n",
       "            if (!window.dotnetInteractiveExtensionsRequire) {\r\n",
       "                window.dotnetInteractiveExtensionsRequire = dotnetInteractiveExtensionsRequire;\r\n",
       "            }\r\n",
       "\r\n",
       "            window.getExtensionRequire = function(extensionName, extensionCacheBuster) {\r\n",
       "                let paths = {};\r\n",
       "                paths[extensionName] = `${root}extensions/${extensionName}/resources/`;\r\n",
       "                \r\n",
       "                let internalRequire = require.config({\r\n",
       "                    context: extensionCacheBuster,\r\n",
       "                    paths: paths,\r\n",
       "                    urlArgs: `cacheBuster=${extensionCacheBuster}`\r\n",
       "                    }) || require;\r\n",
       "\r\n",
       "                return internalRequire\r\n",
       "            };\r\n",
       "        \r\n",
       "            dotnetInteractiveRequire([\r\n",
       "                    'dotnet-interactive/dotnet-interactive'\r\n",
       "                ],\r\n",
       "                function (dotnet) {\r\n",
       "                    dotnet.init(window);\r\n",
       "                },\r\n",
       "                function (error) {\r\n",
       "                    console.log(error);\r\n",
       "                }\r\n",
       "            );\r\n",
       "        })\r\n",
       "        .catch(error => {console.log(error);});\r\n",
       "    }\r\n",
       "    </script>\r\n",
       "</div>"
      ]
     },
     "metadata": {},
     "output_type": "display_data"
    },
    {
     "data": {
      "text/plain": [
       "Installed package Microsoft.Spark version 0.12.1"
      ]
     },
     "metadata": {},
     "output_type": "display_data"
    }
   ],
   "source": [
    "#r \"nuget:Microsoft.Spark\""
   ]
  },
  {
   "cell_type": "code",
   "execution_count": 18,
   "metadata": {},
   "outputs": [],
   "source": [
    "using Microsoft.Spark.Sql;\n",
    "using static Microsoft.Spark.Sql.Functions;\n",
    "using Microsoft.Spark.Sql.Types;"
   ]
  },
  {
   "cell_type": "code",
   "execution_count": 3,
   "metadata": {},
   "outputs": [
    {
     "name": "stdout",
     "output_type": "stream",
     "text": [
      "[2020-09-06T11:15:13.9463884Z] [MININT-GLN1L3K] [Info] [ConfigurationService] 'DOTNETBACKEND_PORT' environment variable is not set.\n",
      "[2020-09-06T11:15:13.9536681Z] [MININT-GLN1L3K] [Info] [ConfigurationService] Using port 5567 for connection.\n",
      "[2020-09-06T11:15:13.9545658Z] [MININT-GLN1L3K] [Info] [JvmBridge] JvMBridge port is 5567\n"
     ]
    }
   ],
   "source": [
    "var spark = SparkSession.Builder().GetOrCreate();"
   ]
  },
  {
   "cell_type": "code",
   "execution_count": 4,
   "metadata": {},
   "outputs": [
    {
     "name": "stdout",
     "output_type": "stream",
     "text": [
      "+------+---+\n",
      "|  name|age|\n",
      "+------+---+\n",
      "|Brooke| 20|\n",
      "| Danny| 31|\n",
      "|Steven| 40|\n",
      "| Jules| 30|\n",
      "|    TD| 35|\n",
      "|Brooke| 35|\n",
      "|  Todd| 21|\n",
      "| Danny| 20|\n",
      "|Steven| 45|\n",
      "+------+---+\n",
      "\n"
     ]
    }
   ],
   "source": [
    "var df = spark.Read().Option(\"header\", true).Csv(\"c:\\\\users\\\\bindeshv\\\\DataBig\\\\persons.csv\");\n",
    "df.Show();"
   ]
  },
  {
   "cell_type": "markdown",
   "metadata": {},
   "source": [
    "### Aggregate all the ages by name "
   ]
  },
  {
   "cell_type": "code",
   "execution_count": 9,
   "metadata": {},
   "outputs": [
    {
     "name": "stdout",
     "output_type": "stream",
     "text": [
      "+------+--------+\n",
      "|  name|avg(age)|\n",
      "+------+--------+\n",
      "|Brooke|    27.5|\n",
      "| Jules|    30.0|\n",
      "| Danny|    25.5|\n",
      "|  Todd|    21.0|\n",
      "|    TD|    35.0|\n",
      "|Steven|    42.5|\n",
      "+------+--------+\n",
      "\n"
     ]
    }
   ],
   "source": [
    "var aggAgeDf = df.GroupBy(Col(\"name\")).Agg(Avg(Col(\"age\")));\n",
    "aggAgeDf.Show();"
   ]
  },
  {
   "cell_type": "markdown",
   "metadata": {},
   "source": [
    "### print schema"
   ]
  },
  {
   "cell_type": "code",
   "execution_count": 15,
   "metadata": {},
   "outputs": [
    {
     "data": {
      "text/html": [
       "<table><thead><tr><th>Fields</th><th>SimpleString</th><th>TypeName</th><th>Json</th></tr></thead><tbody><tr><td><div class=\"dni-plaintext\">[ StructField(name,string), StructField(avg(age),double) ]</div></td><td><div class=\"dni-plaintext\">struct&lt;name:string,avg(age):double&gt;</div></td><td><div class=\"dni-plaintext\">struct</div></td><td><div class=\"dni-plaintext\">{&quot;fields&quot;:[{&quot;metadata&quot;:{},&quot;name&quot;:&quot;name&quot;,&quot;nullable&quot;:true,&quot;type&quot;:&quot;string&quot;},{&quot;metadata&quot;:{},&quot;name&quot;:&quot;avg(age)&quot;,&quot;nullable&quot;:true,&quot;type&quot;:&quot;double&quot;}],&quot;type&quot;:&quot;struct&quot;}</div></td></tr></tbody></table>"
      ]
     },
     "metadata": {},
     "output_type": "display_data"
    }
   ],
   "source": [
    "display(aggAgeDf.Schema());"
   ]
  },
  {
   "cell_type": "code",
   "execution_count": 16,
   "metadata": {},
   "outputs": [
    {
     "data": {
      "text/html": [
       "<table><thead><tr><th>Fields</th><th>SimpleString</th><th>TypeName</th><th>Json</th></tr></thead><tbody><tr><td><div class=\"dni-plaintext\">[ StructField(name,string), StructField(age,string) ]</div></td><td><div class=\"dni-plaintext\">struct&lt;name:string,age:string&gt;</div></td><td><div class=\"dni-plaintext\">struct</div></td><td><div class=\"dni-plaintext\">{&quot;fields&quot;:[{&quot;metadata&quot;:{},&quot;name&quot;:&quot;name&quot;,&quot;nullable&quot;:true,&quot;type&quot;:&quot;string&quot;},{&quot;metadata&quot;:{},&quot;name&quot;:&quot;age&quot;,&quot;nullable&quot;:true,&quot;type&quot;:&quot;string&quot;}],&quot;type&quot;:&quot;struct&quot;}</div></td></tr></tbody></table>"
      ]
     },
     "metadata": {},
     "output_type": "display_data"
    }
   ],
   "source": [
    "display(df.Schema());"
   ]
  },
  {
   "cell_type": "markdown",
   "metadata": {},
   "source": [
    "#### Definining Schema Programmatically"
   ]
  },
  {
   "cell_type": "code",
   "execution_count": 27,
   "metadata": {},
   "outputs": [
    {
     "data": {
      "text/html": [
       "<table><thead><tr><th>Fields</th><th>SimpleString</th><th>TypeName</th><th>Json</th></tr></thead><tbody><tr><td><div class=\"dni-plaintext\">[ StructField(name,string), StructField(age,integer) ]</div></td><td><div class=\"dni-plaintext\">struct&lt;name:string,age:integer&gt;</div></td><td><div class=\"dni-plaintext\">struct</div></td><td><div class=\"dni-plaintext\">{&quot;fields&quot;:[{&quot;metadata&quot;:{},&quot;name&quot;:&quot;name&quot;,&quot;nullable&quot;:true,&quot;type&quot;:&quot;string&quot;},{&quot;metadata&quot;:{},&quot;name&quot;:&quot;age&quot;,&quot;nullable&quot;:true,&quot;type&quot;:&quot;integer&quot;}],&quot;type&quot;:&quot;struct&quot;}</div></td></tr></tbody></table>"
      ]
     },
     "metadata": {},
     "output_type": "display_data"
    },
    {
     "name": "stdout",
     "output_type": "stream",
     "text": [
      "+------+---+\n",
      "|  name|age|\n",
      "+------+---+\n",
      "|Brooke| 20|\n",
      "| Danny| 31|\n",
      "|Steven| 40|\n",
      "| Jules| 30|\n",
      "|    TD| 35|\n",
      "|Brooke| 35|\n",
      "|  Todd| 21|\n",
      "| Danny| 20|\n",
      "|Steven| 45|\n",
      "+------+---+\n",
      "\n"
     ]
    }
   ],
   "source": [
    "var personSchema = new StructType(new [] {\n",
    "                new StructField(\"name\", new StringType()),\n",
    "                new StructField(\"age\", new IntegerType())\n",
    "                }\n",
    "         );\n",
    "\n",
    "var schemaDf = spark.Read().Option(\"header\", true)\n",
    "    .Schema(personSchema)\n",
    "    .Csv(\"c:\\\\users\\\\bindeshv\\\\DataBig\\\\persons.csv\");\n",
    "\n",
    "display(schemaDf.Schema());\n",
    "//show the data\n",
    "schemaDf.Show();"
   ]
  }
 ],
 "metadata": {
  "kernelspec": {
   "display_name": ".NET (C#)",
   "language": "C#",
   "name": ".net-csharp"
  },
  "language_info": {
   "file_extension": ".cs",
   "mimetype": "text/x-csharp",
   "name": "C#",
   "pygments_lexer": "csharp",
   "version": "8.0"
  }
 },
 "nbformat": 4,
 "nbformat_minor": 4
}
