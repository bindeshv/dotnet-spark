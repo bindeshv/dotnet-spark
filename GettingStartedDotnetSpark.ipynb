{
 "cells": [
  {
   "cell_type": "code",
   "execution_count": 1,
   "metadata": {},
   "outputs": [
    {
     "data": {
      "text/html": [
       "\r\n",
       "<div>\r\n",
       "    <div id='dotnet-interactive-this-cell-26868.e8c07885935947258c4c650a09565465' style='display: none'>\r\n",
       "        The below script needs to be able to find the current output cell; this is an easy method to get it.\r\n",
       "    </div>\r\n",
       "    <script type='text/javascript'>\r\n",
       "// ensure `require` is available globally\r\n",
       "if (typeof require !== typeof Function || typeof require.config !== typeof Function) {\r\n",
       "    let require_script = document.createElement('script');\r\n",
       "    require_script.setAttribute('src', 'https://cdnjs.cloudflare.com/ajax/libs/require.js/2.3.6/require.min.js');\r\n",
       "    require_script.setAttribute('type', 'text/javascript');\r\n",
       "    require_script.onload = function () {\r\n",
       "        loadDotnetInteractiveApi();\r\n",
       "    };\r\n",
       "\r\n",
       "    document.getElementsByTagName('head')[0].appendChild(require_script);\r\n",
       "}\r\n",
       "else {\r\n",
       "    loadDotnetInteractiveApi();\r\n",
       "}\r\n",
       "\r\n",
       "async function probeAddresses(probingAddresses) {\r\n",
       "    function timeout(ms, promise) {\r\n",
       "        return new Promise(function (resolve, reject) {\r\n",
       "            setTimeout(function () {\r\n",
       "                reject(new Error('timeout'))\r\n",
       "            }, ms)\r\n",
       "            promise.then(resolve, reject)\r\n",
       "        })\r\n",
       "    }\r\n",
       "\r\n",
       "    if (Array.isArray(probingAddresses)) {\r\n",
       "        for (let i = 0; i < probingAddresses.length; i++) {\r\n",
       "\r\n",
       "            let rootUrl = probingAddresses[i];\r\n",
       "\r\n",
       "            if (!rootUrl.endsWith('/')) {\r\n",
       "                rootUrl = `${rootUrl}/`;\r\n",
       "            }\r\n",
       "\r\n",
       "            try {\r\n",
       "                let response = await timeout(1000, fetch(`${rootUrl}discovery`, {\r\n",
       "                    method: 'POST',\r\n",
       "                    cache: 'no-cache',\r\n",
       "                    mode: 'cors',\r\n",
       "                    timeout: 1000,\r\n",
       "                    headers: {\r\n",
       "                        'Content-Type': 'text/plain'\r\n",
       "                    },\r\n",
       "                    body: probingAddresses[i]\r\n",
       "                }));\r\n",
       "\r\n",
       "                if (response.status == 200) {\r\n",
       "                    return rootUrl;\r\n",
       "                }\r\n",
       "            }\r\n",
       "            catch (e) { }\r\n",
       "        }\r\n",
       "    }\r\n",
       "}\r\n",
       "\r\n",
       "function loadDotnetInteractiveApi() {\r\n",
       "    probeAddresses([\"http://169.254.58.219:1000/\", \"http://192.168.225.76:1000/\", \"http://100.64.4.165:1000/\", \"http://172.23.240.1:1000/\", \"http://127.0.0.1:1000/\"])\r\n",
       "        .then((root) => {\r\n",
       "            // use probing to find host url and api resources\r\n",
       "            // load interactive helpers and language services\r\n",
       "            let dotnetInteractiveRequire = require.config({\r\n",
       "                context: '26868.e8c07885935947258c4c650a09565465',\r\n",
       "                paths: {\r\n",
       "                    'dotnet-interactive': `${root}resources`\r\n",
       "                }\r\n",
       "            }) || require;\r\n",
       "\r\n",
       "            let dotnetInteractiveExtensionsRequire = require.config({\r\n",
       "                context: '26868.e8c07885935947258c4c650a09565465',\r\n",
       "                paths: {\r\n",
       "                    'dotnet-interactive-extensions': `${root}extensions`\r\n",
       "                }\r\n",
       "            }) || require;\r\n",
       "\r\n",
       "            if (!window.dotnetInteractiveRequire) {\r\n",
       "                window.dotnetInteractiveRequire = dotnetInteractiveRequire;\r\n",
       "            }\r\n",
       "\r\n",
       "            if (!window.dotnetInteractiveExtensionsRequire) {\r\n",
       "                window.dotnetInteractiveExtensionsRequire = dotnetInteractiveExtensionsRequire;\r\n",
       "            }\r\n",
       "\r\n",
       "            window.getExtensionRequire = function(extensionName, extensionCacheBuster) {\r\n",
       "                let paths = {};\r\n",
       "                paths[extensionName] = `${root}extensions/${extensionName}/resources/`;\r\n",
       "                \r\n",
       "                let internalRequire = require.config({\r\n",
       "                    context: extensionCacheBuster,\r\n",
       "                    paths: paths,\r\n",
       "                    urlArgs: `cacheBuster=${extensionCacheBuster}`\r\n",
       "                    }) || require;\r\n",
       "\r\n",
       "                return internalRequire\r\n",
       "            };\r\n",
       "        \r\n",
       "            dotnetInteractiveRequire([\r\n",
       "                    'dotnet-interactive/dotnet-interactive'\r\n",
       "                ],\r\n",
       "                function (dotnet) {\r\n",
       "                    dotnet.init(window);\r\n",
       "                },\r\n",
       "                function (error) {\r\n",
       "                    console.log(error);\r\n",
       "                }\r\n",
       "            );\r\n",
       "        })\r\n",
       "        .catch(error => {console.log(error);});\r\n",
       "    }\r\n",
       "    </script>\r\n",
       "</div>"
      ]
     },
     "metadata": {},
     "output_type": "display_data"
    },
    {
     "data": {
      "text/plain": [
       "Installed package Microsoft.Spark version 0.12.1"
      ]
     },
     "metadata": {},
     "output_type": "display_data"
    }
   ],
   "source": [
    "#r \"nuget:Microsoft.Spark,0.12.1\""
   ]
  },
  {
   "cell_type": "code",
   "execution_count": 2,
   "metadata": {},
   "outputs": [],
   "source": [
    "using Microsoft.Spark.Sql;\n",
    "using static Microsoft.Spark.Sql.Functions;\n",
    "\n",
    "var inputFile = @\"c:\\users\\bindeshv\\projects_smaller.csv\";\n",
    "\n"
   ]
  },
  {
   "cell_type": "code",
   "execution_count": null,
   "metadata": {},
   "outputs": [],
   "source": []
  },
  {
   "cell_type": "code",
   "execution_count": 3,
   "metadata": {},
   "outputs": [
    {
     "name": "stdout",
     "output_type": "stream",
     "text": [
      "[2020-09-06T09:16:13.4089170Z] [MININT-GLN1L3K] [Info] [ConfigurationService] 'DOTNETBACKEND_PORT' environment variable is not set.\n",
      "[2020-09-06T09:16:13.4143390Z] [MININT-GLN1L3K] [Info] [ConfigurationService] Using port 5567 for connection.\n",
      "[2020-09-06T09:16:13.4147703Z] [MININT-GLN1L3K] [Info] [JvmBridge] JvMBridge port is 5567\n"
     ]
    }
   ],
   "source": [
    "SparkSession spark = SparkSession.Builder()\n",
    "                .AppName(\"Spark.NET Batch\")\n",
    "                .GetOrCreate();"
   ]
  },
  {
   "cell_type": "code",
   "execution_count": 7,
   "metadata": {},
   "outputs": [],
   "source": [
    " DataFrame projectsDF = spark.Read()\n",
    "                .Schema(\"id INT, url STRING, owner_id INT, name STRING, descriptor STRING, language STRING, created_at STRING, forked_from INT, deleted STRING, updated_at STRING\")\n",
    "                .Csv(\"c:\\\\users\\\\bindeshv\\\\DataBig\\\\projects_smaller.csv\");"
   ]
  },
  {
   "cell_type": "code",
   "execution_count": 8,
   "metadata": {},
   "outputs": [
    {
     "name": "stdout",
     "output_type": "stream",
     "text": [
      "+----+--------------------+--------+--------------------+--------------------+--------+---------------+-----------+-------+-------------------+\n",
      "|  id|                 url|owner_id|                name|          descriptor|language|     created_at|forked_from|deleted|         updated_at|\n",
      "+----+--------------------+--------+--------------------+--------------------+--------+---------------+-----------+-------+-------------------+\n",
      "|   1|https://api.githu...|       1|           ruote-kit|RESTful wrapper f...|    Ruby|12/8/2009 10:17|          2|      0|     11/5/2015 1:15|\n",
      "|null|                null|    null|                null|                null|    null|           null|       null|   null|               null|\n",
      "|null|                null|    null|                null|                null|    null|           null|       null|   null|               null|\n",
      "|   4|https://api.githu...|      24|             basemap|                null|     C++|6/14/2012 14:14|          3|      1|0000-00-00 00:00:00|\n",
      "|   5|https://api.githu...|      28|           cocos2d-x|Port of cocos2d-i...|     C++|3/12/2012 16:48|          6|      0|   10/22/2015 17:36|\n",
      "|null|                null|    null|                null|                null|    null|           null|       null|   null|               null|\n",
      "|   7|https://api.githu...|      42|           cocos2d-x|Port of cocos2d-i...|       C|4/23/2012 10:20|          6|      0|    11/1/2015 17:32|\n",
      "|null|                null|    null|                null|                null|    null|           null|       null|   null|               null|\n",
      "|   9|https://api.githu...|      66|       rake-compiler|Provide a standar...|    Ruby| 8/1/2012 18:33|   14556189|      0|    11/3/2015 19:30|\n",
      "|null|                null|    null|                null|                null|    null|           null|       null|   null|               null|\n",
      "|null|                null|    null|                null|                null|    null|           null|       null|   null|               null|\n",
      "|  12|https://api.githu...|      70|heroku-buildpack-...|                null|   Shell| 8/2/2012 12:50|         11|      0|     11/2/2015 7:34|\n",
      "|null|                null|    null|                null|                null|    null|           null|       null|   null|               null|\n",
      "|null|                null|    null|                null|                null|    null|           null|       null|   null|               null|\n",
      "|null|                null|    null|                null|                null|    null|           null|       null|   null|               null|\n",
      "|null|                null|    null|                null|                null|    null|           null|       null|   null|               null|\n",
      "|null|                null|    null|                null|                null|    null|           null|       null|   null|               null|\n",
      "|null|                null|    null|                null|                null|    null|           null|       null|   null|               null|\n",
      "|null|                null|    null|                null|                null|    null|           null|       null|   null|               null|\n",
      "|null|                null|    null|                null|                null|    null|           null|       null|   null|               null|\n",
      "+----+--------------------+--------+--------------------+--------------------+--------+---------------+-----------+-------+-------------------+\n",
      "only showing top 20 rows\n",
      "\n"
     ]
    }
   ],
   "source": [
    "projectsDF.Show()"
   ]
  },
  {
   "cell_type": "code",
   "execution_count": 9,
   "metadata": {},
   "outputs": [
    {
     "name": "stdout",
     "output_type": "stream",
     "text": [
      "+--------------------+--------------------+-----------+----------------+-----------+-------+-------------------+\n",
      "|                name|          descriptor|   language|      created_at|forked_from|deleted|         updated_at|\n",
      "+--------------------+--------------------+-----------+----------------+-----------+-------+-------------------+\n",
      "|           ruote-kit|RESTful wrapper f...|       Ruby| 12/8/2009 10:17|          2|      0|     11/5/2015 1:15|\n",
      "|           cocos2d-x|Port of cocos2d-i...|        C++| 3/12/2012 16:48|          6|      0|   10/22/2015 17:36|\n",
      "|           cocos2d-x|Port of cocos2d-i...|          C| 4/23/2012 10:20|          6|      0|    11/1/2015 17:32|\n",
      "|       rake-compiler|Provide a standar...|       Ruby|  8/1/2012 18:33|   14556189|      0|    11/3/2015 19:30|\n",
      "|    cobertura-plugin|Jenkins cobertura...|       Java| 7/26/2012 18:46|     193522|      0|    11/1/2015 19:55|\n",
      "|     scala-vs-erlang|A performance tes...|     Erlang|12/25/2011 13:51|    1262879|      0|    10/22/2015 4:50|\n",
      "|              opencv|OpenCV GitHub Mirror|        C++|  8/2/2012 12:50|         29|      0|    10/26/2015 6:44|\n",
      "| redmine_git_hosting|A ChiliProject/Re...|       Ruby| 7/30/2012 12:53|         42|      0|   10/28/2015 10:54|\n",
      "| redmine_git_hosting|A ChiliProject/Re...|       Ruby|10/26/2011 23:17|     207450|      0|   10/27/2015 22:43|\n",
      "|          OpenCV-iOS|This project is a...|Objective-C|  8/2/2012 12:55|         39|      1|0000-00-00 00:00:00|\n",
      "|           browserid|A secure, distrib...| JavaScript| 6/30/2012 22:35|       1589|      0|    10/10/2015 0:34|\n",
      "|      protobuf-cmake|CMake build suppo...|         \\N|  8/2/2012 14:35|         61|      0|    10/31/2015 1:22|\n",
      "|                loso|Chinese segmentat...|     Python|  8/2/2012 12:57|         67|      1|0000-00-00 00:00:00|\n",
      "|                yui3| YUI 3.x Source Tree| JavaScript| 7/13/2012 14:48|         55|      1|0000-00-00 00:00:00|\n",
      "|         doctag_java|Java library for ...|       Java|  8/2/2012 12:57|         70|      1|0000-00-00 00:00:00|\n",
      "|willdurand.github...|        My new blog!| JavaScript|  8/2/2012 12:06|         84|      0|     11/4/2015 9:15|\n",
      "|            manaserv|A flexible 2D MMO...|        C++|  8/1/2011 17:05|         90|      0|    10/10/2015 4:42|\n",
      "|            manaserv|A flexible 2D MMO...|        C++| 3/24/2011 17:38|         90|      0|   10/16/2015 18:29|\n",
      "|               libuv|platform layer fo...|          C|  8/2/2012 12:57|         74|      0|    10/31/2015 8:21|\n",
      "|         cucumber-js|Pure Javascript C...| JavaScript| 5/28/2012 15:47|      10457|      1|0000-00-00 00:00:00|\n",
      "+--------------------+--------------------+-----------+----------------+-----------+-------+-------------------+\n",
      "only showing top 20 rows\n",
      "\n"
     ]
    }
   ],
   "source": [
    "DataFrameNaFunctions dropEmptyProjects = projectsDF.Na();\n",
    "DataFrame cleanedProjects = dropEmptyProjects.Drop(\"any\");\n",
    "//drop unneccessary columns \n",
    "cleanedProjects = cleanedProjects.Drop(\"id\", \"owner_id\", \"url\");\n",
    "cleanedProjects.Show();\n"
   ]
  },
  {
   "cell_type": "code",
   "execution_count": 11,
   "metadata": {},
   "outputs": [
    {
     "name": "stdout",
     "output_type": "stream",
     "text": [
      "+------------+------------------+\n",
      "|    language|  avg(forked_from)|\n",
      "+------------+------------------+\n",
      "|          C#|        914767.625|\n",
      "|    Makefile|         3611689.0|\n",
      "|        Rust|             288.0|\n",
      "|  JavaScript| 240718.6494845361|\n",
      "|  Emacs Lisp| 660.3333333333334|\n",
      "|          \\N| 1995.095238095238|\n",
      "|        Perl|          298380.0|\n",
      "|      Puppet|          253680.5|\n",
      "|      Erlang|         1262879.0|\n",
      "|         C++| 448911.1538461539|\n",
      "|      Groovy|            1049.0|\n",
      "|ActionScript|        2474502.75|\n",
      "|           D|             458.0|\n",
      "|           C|1576.4705882352941|\n",
      "| Objective-C|2281.4761904761904|\n",
      "|      Augeas|             680.0|\n",
      "|        VimL|             725.0|\n",
      "|        HTML|             486.0|\n",
      "|        HaXe|             829.0|\n",
      "|   Smalltalk|             394.0|\n",
      "+------------+------------------+\n",
      "only showing top 20 rows\n",
      "\n"
     ]
    }
   ],
   "source": [
    "//get the average number of times each language has been forked\n",
    "DataFrame groupedDF = cleanedProjects.GroupBy(\"language\")\n",
    "                                    .Agg(Avg(cleanedProjects[\"forked_from\"]));\n",
    "groupedDF.Show();"
   ]
  },
  {
   "cell_type": "code",
   "execution_count": 12,
   "metadata": {},
   "outputs": [
    {
     "name": "stdout",
     "output_type": "stream",
     "text": [
      "+------------+------------------+\n",
      "|    language|  avg(forked_from)|\n",
      "+------------+------------------+\n",
      "|      Racket|       1.2550711E7|\n",
      "|    Makefile|         3611689.0|\n",
      "|ActionScript|        2474502.75|\n",
      "|      Erlang|         1262879.0|\n",
      "|          C#|        914767.625|\n",
      "|         PHP| 617219.4333333333|\n",
      "|         C++| 448911.1538461539|\n",
      "|        Ruby|349311.23214285716|\n",
      "|        Perl|          298380.0|\n",
      "|      Puppet|          253680.5|\n",
      "|  JavaScript| 240718.6494845361|\n",
      "|        Java|      149923.71875|\n",
      "|      Python| 76043.26190476191|\n",
      "|       Shell|           13276.6|\n",
      "| Objective-C|2281.4761904761904|\n",
      "|          \\N| 1995.095238095238|\n",
      "|           C|1576.4705882352941|\n",
      "|       Scala|            1358.5|\n",
      "|      Groovy|            1049.0|\n",
      "|        HaXe|             829.0|\n",
      "+------------+------------------+\n",
      "only showing top 20 rows\n",
      "\n"
     ]
    }
   ],
   "source": [
    " //sort on most forked languages first \n",
    "groupedDF.OrderBy(Desc(\"avg(forked_from)\")).Show();"
   ]
  }
 ],
 "metadata": {
  "kernelspec": {
   "display_name": ".NET (C#)",
   "language": "C#",
   "name": ".net-csharp"
  },
  "language_info": {
   "file_extension": ".cs",
   "mimetype": "text/x-csharp",
   "name": "C#",
   "pygments_lexer": "csharp",
   "version": "8.0"
  }
 },
 "nbformat": 4,
 "nbformat_minor": 4
}
